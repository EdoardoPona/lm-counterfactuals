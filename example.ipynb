{
 "cells": [
  {
   "cell_type": "code",
   "execution_count": 2,
   "id": "4d43550d-2a02-4f42-9e98-6688c05d298d",
   "metadata": {},
   "outputs": [],
   "source": [
    "from transformers.utils import logging\n",
    "logging.set_verbosity_warning()\n",
    "import utils\n",
    "from transformers import AutoTokenizer, AutoModelForCausalLM\n",
    "import transformers\n",
    "import torch\n",
    "from transformers import logging"
   ]
  },
  {
   "cell_type": "code",
   "execution_count": 3,
   "id": "e9f28823-b9da-42da-88b3-d7657f71b140",
   "metadata": {},
   "outputs": [
    {
     "name": "stderr",
     "output_type": "stream",
     "text": [
         ],
   "source": [
    "# define the original and counterfactual models. \n",
    "# Here, we take the counterfactual model to be a ROME-edited variant of the original model where the louvr'e location has been updated.\n",
    "\n",
    "original_model_name = \"openai-community/gpt2-xl\"\n",
    "counterfactual_model_name = \"jas-ho/rome-edits-louvre-rome\"\n",
    "\n",
    "original_model = transformers.AutoModelForCausalLM.from_pretrained(\n",
    "            original_model_name, device_map=\"auto\", torch_dtype=torch.float32,trust_remote_code=True)\n",
    "counterfactual_model = transformers.AutoModelForCausalLM.from_pretrained(\n",
    "            counterfactual_model_name, device_map=\"auto\", torch_dtype=torch.float32,trust_remote_code=True)\n",
    "\n",
    "tokenizer = transformers.AutoTokenizer.from_pretrained(original_model_name, model_max_length=512, padding_side=\"right\", \n",
    "                                                       use_fast=False,trust_remote_code=True)"
   ]
  },
  {
   "cell_type": "code",
   "execution_count": 33,
   "id": "eb7b2def-4d08-44fa-8bbf-75fdee14ce5c",
   "metadata": {},
   "outputs": [],
   "source": [
    "prompt = \"The adult male of the common blackbird, which is found throughout most of Europe, is\"\n",
    "# Sample a continuation from the original model\n",
    "num_new_tokens = 35\n",
    "utils.set_seed(0)\n",
    "original_continuation_tokens, original_continuation = utils.get_continuation(original_model, tokenizer, prompt, max_new_tokens=num_new_tokens, return_only_continuation=True,num_beams=1, do_sample=True, token_healing=True)"
   ]
  },
  {
   "cell_type": "code",
   "execution_count": 34,
   "id": "2f95db64-2508-4fdb-bee5-668d4b97be33",
   "metadata": {},
   "outputs": [],
   "source": [
    "# Sample a counterfactual continuation\n",
    "count_tokens, count_text = utils.get_counterfactual_output(counterfactual_model, original_model, tokenizer, prompt, original_continuation, num_new_tokens)"
   ]
  },
  {
   "cell_type": "code",
   "execution_count": 35,
   "id": "512afce2-4da9-46e9-b7bb-c5d3ce010c37",
   "metadata": {},
   "outputs": [
    {
     "name": "stdout",
     "output_type": "stream",
     "text": [
      "Original text:\n",
      "The adult male of the common blackbird, which is found throughout most of Europe, is white on the neck, chest and chest, but lacks dark brown patches on the flanks where the feathers grow and are darker. Their heads are always black except for a white\n",
      "Counterfactual text:\n",
      "The adult male of the common blackbird, which is found throughout most of Europe, is referred to as a \"blackbird\" because of its dark brown, almost black, plumage. The bird's name comes from the black feathers that have been found on the\n"
     ]
    }
   ],
   "source": [
    "print(\"Original text:\")\n",
    "print(prompt+original_continuation)\n",
    "print(\"Counterfactual text:\")\n",
    "print(count_text)"
   ]
  }
 ],
 "metadata": {
  "kernelspec": {
   "display_name": "venv",
   "language": "python",
   "name": "venv"
  },
  "language_info": {
   "codemirror_mode": {
    "name": "ipython",
    "version": 3
   },
   "file_extension": ".py",
   "mimetype": "text/x-python",
   "name": "python",
   "nbconvert_exporter": "python",
   "pygments_lexer": "ipython3",
   "version": "3.12.4"
  }
 },
 "nbformat": 4,
 "nbformat_minor": 5
}
